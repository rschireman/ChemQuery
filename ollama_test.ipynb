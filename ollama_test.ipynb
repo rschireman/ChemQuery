{
 "cells": [
  {
   "cell_type": "code",
   "execution_count": 1,
   "metadata": {},
   "outputs": [],
   "source": [
    "#conda install -c conda-forge poppler\n",
    "import pdf2image \n",
    "\n",
    "doc_img = pdf2image.convert_from_path(\"crystal23.pdf\", dpi=300)\n",
    "\n",
    "# print one page as example\n",
    "doc_img[35]"
   ]
  },
  {
   "cell_type": "code",
   "execution_count": null,
   "metadata": {},
   "outputs": [],
   "source": [
    "import pytesseract \n",
    "\n",
    "doc_txt = []\n",
    "for page in doc_img:\n",
    "    text = pytesseract.image_to_string(page)\n",
    "    doc_txt.append(text)\n",
    "\n",
    "doc_txt[35]"
   ]
  }
 ],
 "metadata": {
  "kernelspec": {
   "display_name": "chemquery",
   "language": "python",
   "name": "python3"
  },
  "language_info": {
   "codemirror_mode": {
    "name": "ipython",
    "version": 3
   },
   "file_extension": ".py",
   "mimetype": "text/x-python",
   "name": "python",
   "nbconvert_exporter": "python",
   "pygments_lexer": "ipython3",
   "version": "3.11.8"
  }
 },
 "nbformat": 4,
 "nbformat_minor": 2
}
